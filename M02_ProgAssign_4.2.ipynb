{
 "cells": [
  {
   "cell_type": "markdown",
   "metadata": {},
   "source": [
    "------------------------------------------------------------------------------------------------------------------------------------\n",
    "# Program Name: Book Thing To Do 4.2\n",
    "\n",
    "## Author: Josh Lanier \n",
    "\n",
    "## SDEV 220\n",
    "\n",
    "## 11/5/22\n",
    "\n",
    "Program Purpose: To allow a user to define which of four objects (pea, cherry, watermelon, or pumpkin) they are thinking of by setting variables 'small' and 'green' to True or False, and letting the program work through a decision structure to guess which object they were thinking of.  \n",
    "\n",
    "Variables: \n",
    "  \n",
    "- small:   (Boolean data type) describes whether a referenced object is small: value is True if user is referencing a small\n",
    "object, and False if user is referencing a large object.\n",
    "  \n",
    "- green:   (Boolean data type) describes whether a referenced object is green: value is True if user is referencing a green\n",
    "object, and False if user is referencing a not green object.\n",
    "  \n",
    "- choice:  (String data type) placeholder for eventual value of result of decision structure - what item the user is thinking of - to interpolate into the printed f-string at the end of the program.  \n",
    "<br/>            \n",
    "------------------------------------------------------------------------------------------------------------------------------------"
   ]
  },
  {
   "cell_type": "code",
   "execution_count": 7,
   "metadata": {},
   "outputs": [
    {
     "name": "stdout",
     "output_type": "stream",
     "text": [
      "You were thinking of a pea!\n"
     ]
    }
   ],
   "source": [
    "# Source Code\n",
    "\n",
    "small = True #or False   \n",
    "green = True #or False  \n",
    "choice = ''\n",
    "\n",
    "if small == True:  \n",
    "    if green == True:  \n",
    "      choice = 'pea'  \n",
    "    else:  \n",
    "      choice = 'cherry'  \n",
    "else:  \n",
    "  if green == True:  \n",
    "    choice = 'watermelon'  \n",
    "  else:  \n",
    "    choice = 'pumpkin'    \n",
    "  \n",
    "print(f'You were thinking of a {choice}!')\n"
   ]
  },
  {
   "cell_type": "markdown",
   "metadata": {},
   "source": [
    "### Test Bank:  \n",
    "\n",
    "#### Four possible combinations of True and False for variables 'small' and 'green':\n",
    "\n",
    "1.\t'small' = True and 'green' = True  \n",
    "  a. Expected pea, program returned pea.  \n",
    "  b. Worked as expected!\n",
    "\n",
    "2.\t'small' = True and 'green' = False    \n",
    "  a. Expected cherry, program returned cherry.  \n",
    "  b. Worked as expected!\n",
    "  \n",
    "3.\t'small' = False and 'green' = True  \n",
    "  a. Expected watermelon, program returned watermelon.  \n",
    "  b. Worked as expected!\n",
    "\n",
    "4.  'small' = False and 'green' = False    \n",
    "  a. Expected pumpkin, program returned pumpkin.  \n",
    "  b. Worked as expected!\n",
    "\n",
    "##### Overall Testing Result: Worked as expected!\n"
   ]
  },
  {
   "cell_type": "code",
   "execution_count": 1,
   "metadata": {},
   "outputs": [
    {
     "name": "stdout",
     "output_type": "stream",
     "text": [
      "You were thinking of a pea!\n"
     ]
    }
   ],
   "source": [
    "#Test 1\n",
    " \n",
    "small = True\n",
    "green = True\n",
    "choice = ''\n",
    "\n",
    "if small == True:\n",
    "    if green == True:\n",
    "        choice = 'pea'\n",
    "    else:\n",
    "        choice = 'cherry'\n",
    "else:\n",
    "    if green == True:\n",
    "        choice = 'watermelon'\n",
    "    else:\n",
    "        choice = 'pumpkin'\n",
    "\n",
    "print(f'You were thinking of a {choice}!')\n",
    "\n",
    "# expecting 'You were thinking of a pea!'"
   ]
  },
  {
   "cell_type": "code",
   "execution_count": 2,
   "metadata": {},
   "outputs": [
    {
     "name": "stdout",
     "output_type": "stream",
     "text": [
      "You were thinking of a cherry!\n"
     ]
    }
   ],
   "source": [
    "#Test 2\n",
    " \n",
    "small = True\n",
    "green = False\n",
    "choice = ''\n",
    "\n",
    "if small == True:\n",
    "    if green == True:\n",
    "        choice = 'pea'\n",
    "    else:\n",
    "        choice = 'cherry'\n",
    "else:\n",
    "    if green == True:\n",
    "        choice = 'watermelon'\n",
    "    else:\n",
    "        choice = 'pumpkin'\n",
    "\n",
    "print(f'You were thinking of a {choice}!')\n",
    "\n",
    "# expecting 'You were thinking of a cherry!'"
   ]
  },
  {
   "cell_type": "code",
   "execution_count": 3,
   "metadata": {},
   "outputs": [
    {
     "name": "stdout",
     "output_type": "stream",
     "text": [
      "You were thinking of a watermelon!\n"
     ]
    }
   ],
   "source": [
    "#Test 3\n",
    " \n",
    "small = False\n",
    "green = True\n",
    "choice = ''\n",
    "\n",
    "if small == True:\n",
    "    if green == True:\n",
    "        choice = 'pea'\n",
    "    else:\n",
    "        choice = 'cherry'\n",
    "else:\n",
    "    if green == True:\n",
    "        choice = 'watermelon'\n",
    "    else:\n",
    "        choice = 'pumpkin'\n",
    "\n",
    "print(f'You were thinking of a {choice}!')\n",
    "\n",
    "# expecting 'You were thinking of a watermelon!'"
   ]
  },
  {
   "cell_type": "code",
   "execution_count": 4,
   "metadata": {},
   "outputs": [
    {
     "name": "stdout",
     "output_type": "stream",
     "text": [
      "You were thinking of a pumpkin!\n"
     ]
    }
   ],
   "source": [
    "#Test 4\n",
    " \n",
    "small = False\n",
    "green = False\n",
    "choice = ''\n",
    "\n",
    "if small == True:\n",
    "    if green == True:\n",
    "        choice = 'pea'\n",
    "    else:\n",
    "        choice = 'cherry'\n",
    "else:\n",
    "    if green == True:\n",
    "        choice = 'watermelon'\n",
    "    else:\n",
    "        choice = 'pumpkin'\n",
    "\n",
    "print(f'You were thinking of a {choice}!')\n",
    "\n",
    "# expecting 'You were thinking of a pumpkin!'"
   ]
  }
 ],
 "metadata": {
  "kernelspec": {
   "display_name": "Python 3.10.0 64-bit",
   "language": "python",
   "name": "python3"
  },
  "language_info": {
   "codemirror_mode": {
    "name": "ipython",
    "version": 3
   },
   "file_extension": ".py",
   "mimetype": "text/x-python",
   "name": "python",
   "nbconvert_exporter": "python",
   "pygments_lexer": "ipython3",
   "version": "3.10.0"
  },
  "orig_nbformat": 4,
  "vscode": {
   "interpreter": {
    "hash": "467e873f0dda9fd3960b72e40a604d87a4a1ce3947ca6ed6991fc2cd958f247d"
   }
  }
 },
 "nbformat": 4,
 "nbformat_minor": 2
}

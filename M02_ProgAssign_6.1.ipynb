{
 "cells": [
  {
   "cell_type": "markdown",
   "metadata": {},
   "source": [
    "------------------------------------------------------------------------------------------------------------------------------------------------------------------\n",
    " # Program Name: Book Thing To Do 6.1\n",
    "\n",
    " ## Author: Josh Lanier \n",
    "\n",
    " ## SDEV 220\n",
    "\n",
    " ## 11/5/22\n",
    "\n",
    "Program Purpose: To print a descending list of integers, from 3 to 0, one at a time. \n",
    "\n",
    "Variables: \n",
    "   \n",
    "- numList:   (list object [int]) holds the list integers to be printed. '-1' step increment is used in range() to return descending list of integers.  \n",
    "  \n",
    "- num:       (integer) iterator placeholder for 'for' loop. Program will print each iteration in 'for' loop, working through numList list.  \n",
    "<br/>              \n",
    "------------------------------------------------------------------------------------------------------------------------------------------------------------------"
   ]
  },
  {
   "cell_type": "code",
   "execution_count": 1,
   "metadata": {},
   "outputs": [
    {
     "name": "stdout",
     "output_type": "stream",
     "text": [
      "3\n",
      "2\n",
      "1\n",
      "0\n"
     ]
    }
   ],
   "source": [
    "# Source Code\n",
    "\n",
    "numList = list(range(3, -1, -1))\n",
    "\n",
    "for num in numList:\n",
    "    print(num)"
   ]
  },
  {
   "cell_type": "markdown",
   "metadata": {},
   "source": [
    "### Test Bank:  \n",
    "  \n",
    " First test makes sure that numList prints the expected range. Second test ensures the code outputs the correct numbers.  \n",
    "  \n",
    "1.\tprint(numList)  \n",
    "  a. Expected [3, 2, 1, 0], program returned [3, 2, 1, 0].  \n",
    "  b. Worked as expected!  \n",
    "\n",
    "2.\tRan full program.      \n",
    "  a. Expected 3, 2, 1, 0, printed one number per line. Program returned 3, 2, 1, 0, printed one number per line.  \n",
    "  b. Worked as expected!  \n",
    "  \n",
    " Overall Testing Result: Worked as expected!  \n"
   ]
  },
  {
   "cell_type": "code",
   "execution_count": 2,
   "metadata": {},
   "outputs": [
    {
     "name": "stdout",
     "output_type": "stream",
     "text": [
      "[3, 2, 1, 0]\n"
     ]
    }
   ],
   "source": [
    "# Test 1\n",
    " \n",
    "print(numList)\n",
    "\n",
    "# expecting [3, 2, 1, 0]"
   ]
  },
  {
   "cell_type": "code",
   "execution_count": 3,
   "metadata": {},
   "outputs": [
    {
     "name": "stdout",
     "output_type": "stream",
     "text": [
      "3\n",
      "2\n",
      "1\n",
      "0\n"
     ]
    }
   ],
   "source": [
    "# Test 2\n",
    " \n",
    "numList = list(range(3, -1, -1))\n",
    "\n",
    "for num in numList:\n",
    "    print(num)\n",
    "\n",
    "#expecting:\n",
    "#3\n",
    "#2\n",
    "#1\n",
    "#0"
   ]
  }
 ],
 "metadata": {
  "kernelspec": {
   "display_name": "Python 3.10.0 64-bit",
   "language": "python",
   "name": "python3"
  },
  "language_info": {
   "codemirror_mode": {
    "name": "ipython",
    "version": 3
   },
   "file_extension": ".py",
   "mimetype": "text/x-python",
   "name": "python",
   "nbconvert_exporter": "python",
   "pygments_lexer": "ipython3",
   "version": "3.10.0"
  },
  "orig_nbformat": 4,
  "vscode": {
   "interpreter": {
    "hash": "467e873f0dda9fd3960b72e40a604d87a4a1ce3947ca6ed6991fc2cd958f247d"
   }
  }
 },
 "nbformat": 4,
 "nbformat_minor": 2
}

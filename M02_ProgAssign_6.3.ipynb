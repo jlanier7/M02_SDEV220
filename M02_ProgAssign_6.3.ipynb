{
 "cells": [
  {
   "cell_type": "markdown",
   "metadata": {},
   "source": [
    "--------------------------------------------------------------------------------------------------------------------------------------------------\n",
    "# Program Name: Book Thing To Do 6.3\n",
    "\n",
    "# Author: Josh Lanier \n",
    "\n",
    "## SDEV 220\n",
    "\n",
    "## 11/5/22\n",
    "  \n",
    "Program Purpose: To find a number in range(10) that matches the variable 'guess_me'.   \n",
    "  \n",
    "Variables:   \n",
    "    \n",
    "- guess_me: (integer) static number that program uses to compare 'number' against as 'number' iterates through range(10).  \n",
    "   \n",
    "- number: (integer) 'for' loop iteration placeholder variable. This number is iterated through range(10) by the first line of the  \n",
    "for loop and is compared to 'guess_me' through each loop until it is equal to 'guess_me', and then the program prints a  \n",
    "message and exits the loop.    \n",
    "<br/>              \n",
    "--------------------------------------------------------------------------------------------------------------------------------------------------"
   ]
  },
  {
   "cell_type": "code",
   "execution_count": 1,
   "metadata": {},
   "outputs": [
    {
     "name": "stdout",
     "output_type": "stream",
     "text": [
      "too low\n",
      "too low\n",
      "too low\n",
      "too low\n",
      "too low\n",
      "found it!\n"
     ]
    }
   ],
   "source": [
    "# Source Code\n",
    "\n",
    "guess_me = 5\n",
    "\n",
    "for number in range(10):\n",
    "    if number < guess_me:\n",
    "        print('too low')\n",
    "    elif number == guess_me:\n",
    "        print('found it!')\n",
    "        break\n",
    "    else:                     #number is great than 'guess_me'\n",
    "        print('oops')         \n"
   ]
  },
  {
   "cell_type": "markdown",
   "metadata": {},
   "source": [
    "### Test Bank:  \n",
    "  \n",
    "1.\tRan full program.      \n",
    "  a. Expected 'too low', printed five times with a new line after each, and then 'found it!' on the sixth line. Program returned 'too low', printed five times with a new line after each, and then 'found it!' on the sixth line.  \n",
    "  b. Worked as expected!    \n",
    "    \n",
    " Overall Testing Result: Worked as expected!    \n"
   ]
  },
  {
   "cell_type": "code",
   "execution_count": 2,
   "metadata": {},
   "outputs": [
    {
     "name": "stdout",
     "output_type": "stream",
     "text": [
      "too low\n",
      "too low\n",
      "too low\n",
      "too low\n",
      "too low\n",
      "found it!\n"
     ]
    }
   ],
   "source": [
    "# Test 1\n",
    " \n",
    "guess_me = 5\n",
    "\n",
    "for number in range(10):\n",
    "    if number < guess_me:\n",
    "        print('too low')\n",
    "    elif number == guess_me:\n",
    "        print('found it!')\n",
    "        break\n",
    "    else:                     #number is great than 'guess_me'\n",
    "        print('oops')         \n",
    "\n",
    "\n",
    "# expecting:\n",
    "# too low\n",
    "# too low\n",
    "# too low\n",
    "# too low\n",
    "# too low\n",
    "# found it!"
   ]
  }
 ],
 "metadata": {
  "kernelspec": {
   "display_name": "Python 3.10.0 64-bit",
   "language": "python",
   "name": "python3"
  },
  "language_info": {
   "codemirror_mode": {
    "name": "ipython",
    "version": 3
   },
   "file_extension": ".py",
   "mimetype": "text/x-python",
   "name": "python",
   "nbconvert_exporter": "python",
   "pygments_lexer": "ipython3",
   "version": "3.10.0"
  },
  "orig_nbformat": 4,
  "vscode": {
   "interpreter": {
    "hash": "467e873f0dda9fd3960b72e40a604d87a4a1ce3947ca6ed6991fc2cd958f247d"
   }
  }
 },
 "nbformat": 4,
 "nbformat_minor": 2
}

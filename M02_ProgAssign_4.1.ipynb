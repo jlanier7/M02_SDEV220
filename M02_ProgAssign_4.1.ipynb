{
 "cells": [
  {
   "cell_type": "markdown",
   "metadata": {},
   "source": [
    "\n",
    "--------------------------------------------------------------------------------------------------------------------------------------\n",
    "# Program Name: Book Thing To Do 4.1\n",
    "\n",
    "## Author: Josh Lanier \n",
    "\n",
    "## SDEV 220\n",
    "\n",
    "## 11/5/22\n",
    "\n",
    "Program Purpose: The program is designed to evaluate whether a variable 'guess' is lower than, higher than, or equal to the CONSTANT \n",
    "'SECRET', and then prints the conclusion it reaches.   \n",
    "\n",
    "Variables: \n",
    "   \n",
    "* SECRET: (integer constant) holds the value that variable 'guess' is being compared against to, to produce the conclusion phrase.  \n",
    "\n",
    "* guess: (integer) holds the value that constant 'SECRET' is being compared against.  \n",
    "<br/>\n",
    "--------------------------------------------------------------------------------------------------------------------------------------"
   ]
  },
  {
   "cell_type": "markdown",
   "metadata": {},
   "source": [
    "Test Bank:  \n",
    "\n",
    "SECRET = 6\n",
    "1.\t‘guess’ = -1; lower than SECRET  \n",
    "  a.\tWorked as expected!\n",
    "\n",
    "2.\t‘guess’ = 6; equal to SECRET  \n",
    "  a.\tWorked as expected!\n",
    "  \n",
    "3.\t‘guess’ = 10; higher than SECRET  \n",
    "  a.\tWorked as expected!\n",
    "\n",
    "Overall Testing Result: Worked as expected!\n"
   ]
  },
  {
   "cell_type": "code",
   "execution_count": 1,
   "metadata": {},
   "outputs": [
    {
     "name": "stdout",
     "output_type": "stream",
     "text": [
      "too low\n"
     ]
    }
   ],
   "source": [
    "#Test 1\n",
    "\n",
    "SECRET = int(6)\n",
    "guess = int(-1) #lower than SECRET\n",
    "\n",
    "if guess < SECRET:\n",
    "    print('too low')\n",
    "elif guess > SECRET:\n",
    "    print('too high')\n",
    "else:\n",
    "    print('just right')\n",
    "\n",
    "#expecting 'too low'"
   ]
  },
  {
   "cell_type": "code",
   "execution_count": 2,
   "metadata": {},
   "outputs": [
    {
     "name": "stdout",
     "output_type": "stream",
     "text": [
      "just right\n"
     ]
    }
   ],
   "source": [
    "#Test 2\n",
    "\n",
    "SECRET = int(6)\n",
    "guess = int(6) #equal to SECRET\n",
    "\n",
    "if guess < SECRET:\n",
    "    print('too low')\n",
    "elif guess > SECRET:\n",
    "    print('too high')\n",
    "else:\n",
    "    print('just right')\n",
    "\n",
    "#expecting 'just right'"
   ]
  },
  {
   "cell_type": "code",
   "execution_count": 3,
   "metadata": {},
   "outputs": [
    {
     "name": "stdout",
     "output_type": "stream",
     "text": [
      "too high\n"
     ]
    }
   ],
   "source": [
    "#Test 3\n",
    "\n",
    "SECRET = int(6)\n",
    "guess = int(10) #higher than SECRET\n",
    "\n",
    "if guess < SECRET:\n",
    "    print('too low')\n",
    "elif guess > SECRET:\n",
    "    print('too high')\n",
    "else:\n",
    "    print('just right')\n",
    "\n",
    "#expecting 'too high'"
   ]
  }
 ],
 "metadata": {
  "kernelspec": {
   "display_name": "Python 3.10.0 64-bit",
   "language": "python",
   "name": "python3"
  },
  "language_info": {
   "codemirror_mode": {
    "name": "ipython",
    "version": 3
   },
   "file_extension": ".py",
   "mimetype": "text/x-python",
   "name": "python",
   "nbconvert_exporter": "python",
   "pygments_lexer": "ipython3",
   "version": "3.10.0"
  },
  "orig_nbformat": 4,
  "vscode": {
   "interpreter": {
    "hash": "467e873f0dda9fd3960b72e40a604d87a4a1ce3947ca6ed6991fc2cd958f247d"
   }
  }
 },
 "nbformat": 4,
 "nbformat_minor": 2
}

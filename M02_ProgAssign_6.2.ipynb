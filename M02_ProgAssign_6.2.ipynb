{
 "cells": [
  {
   "cell_type": "markdown",
   "metadata": {},
   "source": [
    "--------------------------------------------------------------------------------------------------------------------------------------------------\n",
    "# Program Name: Book Thing To Do 6.2\n",
    "\n",
    "# Author: Josh Lanier \n",
    "\n",
    "## SDEV 220\n",
    "\n",
    "## 11/5/22\n",
    "  \n",
    "Program Purpose: To print a descending list of integers, from 3 to 0, one at a time.   \n",
    "  \n",
    "Variables:   \n",
    "     \n",
    "- guess_me:  (integer) number that program is trying to reach through positive iteration from 1.  \n",
    "    \n",
    "- number:    (integer) while loop counter variable. This number is incremented at the bottom of the while loop and is compared to 'guess_me' through each loop until it is equal to it, and then the program prints a message and exits the loop.    \n",
    "<br/>              \n",
    "--------------------------------------------------------------------------------------------------------------------------------------------------"
   ]
  },
  {
   "cell_type": "code",
   "execution_count": 2,
   "metadata": {},
   "outputs": [
    {
     "name": "stdout",
     "output_type": "stream",
     "text": [
      "too low\n",
      "too low\n",
      "too low\n",
      "too low\n",
      "too low\n",
      "too low\n",
      "found it!\n"
     ]
    }
   ],
   "source": [
    "# Source Code\n",
    "\n",
    "guess_me = 7\n",
    "number = 1\n",
    "\n",
    "while True:\n",
    "    if number < guess_me:\n",
    "        print('too low')\n",
    "    elif number == guess_me:\n",
    "        print('found it!')\n",
    "        break\n",
    "    else:                     #number is higher than 'guess_me'\n",
    "        print('oops') \n",
    "    number += 1"
   ]
  },
  {
   "cell_type": "markdown",
   "metadata": {},
   "source": [
    "### Test Bank:  \n",
    "  \n",
    "1.\tRan full program.      \n",
    "  a. Expected 'too low', printed six times with a new line after each, and then 'found it!' on the seventh line. Program returned 'too       low', printed six times with a new line after each, and then 'found it!' on the seventh line.  \n",
    "  b. Worked as expected!    \n",
    "    \n",
    " Overall Testing Result: Worked as expected!    \n"
   ]
  },
  {
   "cell_type": "code",
   "execution_count": 3,
   "metadata": {},
   "outputs": [
    {
     "name": "stdout",
     "output_type": "stream",
     "text": [
      "too low\n",
      "too low\n",
      "too low\n",
      "too low\n",
      "too low\n",
      "too low\n",
      "found it!\n"
     ]
    }
   ],
   "source": [
    "# Test 1\n",
    " \n",
    "guess_me = 7\n",
    "number = 1\n",
    "\n",
    "while True:\n",
    "    if number < guess_me:\n",
    "        print('too low')\n",
    "    elif number == guess_me:\n",
    "        print('found it!')\n",
    "        break\n",
    "    else:                     #number is higher than 'guess_me'\n",
    "        print('oops') \n",
    "    number += 1\n",
    "\n",
    "# expecting:\n",
    "# too low\n",
    "# too low\n",
    "# too low\n",
    "# too low\n",
    "# too low\n",
    "# too low\n",
    "# found it!"
   ]
  }
 ],
 "metadata": {
  "kernelspec": {
   "display_name": "Python 3.10.0 64-bit",
   "language": "python",
   "name": "python3"
  },
  "language_info": {
   "codemirror_mode": {
    "name": "ipython",
    "version": 3
   },
   "file_extension": ".py",
   "mimetype": "text/x-python",
   "name": "python",
   "nbconvert_exporter": "python",
   "pygments_lexer": "ipython3",
   "version": "3.10.0"
  },
  "orig_nbformat": 4,
  "vscode": {
   "interpreter": {
    "hash": "467e873f0dda9fd3960b72e40a604d87a4a1ce3947ca6ed6991fc2cd958f247d"
   }
  }
 },
 "nbformat": 4,
 "nbformat_minor": 2
}
